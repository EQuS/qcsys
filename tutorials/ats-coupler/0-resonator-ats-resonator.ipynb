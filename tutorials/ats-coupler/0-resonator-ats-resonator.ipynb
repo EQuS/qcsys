{
 "cells": [
  {
   "cell_type": "code",
   "execution_count": 1,
   "metadata": {},
   "outputs": [],
   "source": [
    "%load_ext autoreload\n",
    "%autoreload 2"
   ]
  },
  {
   "cell_type": "code",
   "execution_count": 2,
   "metadata": {},
   "outputs": [],
   "source": [
    "from jax import jit, grad\n",
    "import qcsys as qs\n",
    "import jax.numpy as jnp\n",
    "from rar_helpers import *"
   ]
  },
  {
   "cell_type": "code",
   "execution_count": 3,
   "metadata": {},
   "outputs": [],
   "source": [
    "import jaxquantum as jqt"
   ]
  },
  {
   "cell_type": "code",
   "execution_count": 4,
   "metadata": {},
   "outputs": [
    {
     "data": {
      "text/plain": [
       "{'g_ex': Array(-0.00212182+0.j, dtype=complex128),\n",
       " 'ω_ATS': Array(6.02181564, dtype=float64),\n",
       " 'ω_ResonatorA': Array(4.99584201, dtype=float64),\n",
       " 'ω_ResonatorB': Array(7.00151547, dtype=float64)}"
      ]
     },
     "execution_count": 4,
     "metadata": {},
     "output_type": "execute_result"
    }
   ],
   "source": [
    "# system, ϕ0, metrics0, system0 = get_system_normal_rar({})\n",
    "ϕ0, metrics0, system0 = get_metrics_linear_rar({})\n",
    "metrics0"
   ]
  },
  {
   "cell_type": "code",
   "execution_count": 5,
   "metadata": {},
   "outputs": [
    {
     "data": {
      "text/plain": [
       "Array([ 0.00000000e+00, -3.55271368e-06,  3.55271368e-06, -3.55271368e-06,\n",
       "       -1.06581410e-05,  2.13162821e-05], dtype=float64)"
      ]
     },
     "execution_count": 5,
     "metadata": {},
     "output_type": "execute_result"
    }
   ],
   "source": [
    "metrics, system, ϕ0, metrics0, system0 = get_metrics_normal_rar({})#{\"ResonatorA_frequency\": 3})\n",
    "metrics[\"K_a\"]*1e9"
   ]
  },
  {
   "cell_type": "code",
   "execution_count": 7,
   "metadata": {},
   "outputs": [
    {
     "data": {
      "text/plain": [
       "Array([-2.14061657e-01, -2.14015472e-01, -2.14154028e-01, -2.11546336e-01,\n",
       "       -4.03521234e+01,  1.18006174e+05], dtype=float64)"
      ]
     },
     "execution_count": 7,
     "metadata": {},
     "output_type": "execute_result"
    }
   ],
   "source": [
    "metrics, system, ϕ0, metrics0, system0 = get_metrics_normal_rar({\n",
    "    \"ATS__dE_J\": 37.0 * 0.01\n",
    "})\n",
    "metrics[\"K_a\"]*1e9"
   ]
  }
 ],
 "metadata": {
  "kernelspec": {
   "display_name": "jax-framework",
   "language": "python",
   "name": "python3"
  },
  "language_info": {
   "codemirror_mode": {
    "name": "ipython",
    "version": 3
   },
   "file_extension": ".py",
   "mimetype": "text/x-python",
   "name": "python",
   "nbconvert_exporter": "python",
   "pygments_lexer": "ipython3",
   "version": "3.9.18"
  }
 },
 "nbformat": 4,
 "nbformat_minor": 2
}
