{
 "cells": [
  {
   "cell_type": "code",
   "execution_count": 1,
   "metadata": {},
   "outputs": [],
   "source": [
    "%load_ext autoreload\n",
    "%autoreload 2"
   ]
  },
  {
   "cell_type": "code",
   "execution_count": 2,
   "metadata": {},
   "outputs": [],
   "source": [
    "from jax import jit, grad\n",
    "import qcsys as qs\n",
    "import jax.numpy as jnp\n",
    "from rar_helpers import *"
   ]
  },
  {
   "cell_type": "code",
   "execution_count": 3,
   "metadata": {},
   "outputs": [],
   "source": [
    "import jaxquantum as jqt"
   ]
  },
  {
   "cell_type": "code",
   "execution_count": 4,
   "metadata": {},
   "outputs": [
    {
     "data": {
      "text/plain": [
       "{'g_3': Array(1.28654004e-05+0.j, dtype=complex128),\n",
       " 'g_cd': Array(2.57308009e-05+0.j, dtype=complex128),\n",
       " 'g_ex': Array(-0.00212182+0.j, dtype=complex128),\n",
       " 'ω_ATS': Array(6.02181564, dtype=float64),\n",
       " 'ω_ResonatorA': Array(4.99584201, dtype=float64),\n",
       " 'ω_ResonatorB': Array(7.00151547, dtype=float64)}"
      ]
     },
     "execution_count": 4,
     "metadata": {},
     "output_type": "execute_result"
    }
   ],
   "source": [
    "# system, ϕ0, metrics0, system0 = get_system_normal_rar({})\n",
    "ϕ0, metrics0, system0 = get_metrics_linear_rar({})\n",
    "metrics0"
   ]
  },
  {
   "cell_type": "code",
   "execution_count": 5,
   "metadata": {},
   "outputs": [
    {
     "data": {
      "text/plain": [
       "Array([ 0.00000000e+00, -3.55271368e-06,  3.55271368e-06, -3.55271368e-06,\n",
       "       -1.06581410e-05,  2.13162821e-05], dtype=float64)"
      ]
     },
     "execution_count": 5,
     "metadata": {},
     "output_type": "execute_result"
    }
   ],
   "source": [
    "metrics, system, ϕ0, metrics0, system0 = get_metrics_normal_rar({})#{\"ResonatorA_frequency\": 3})\n",
    "metrics[\"K_a\"]*1e9"
   ]
  },
  {
   "cell_type": "code",
   "execution_count": 6,
   "metadata": {},
   "outputs": [
    {
     "data": {
      "text/plain": [
       "Array([ 9.07343001e+00,  9.07285802e+00,  9.07207109e+00,  9.07084541e+00,\n",
       "       -1.22035928e+01,  4.27481506e+05], dtype=float64)"
      ]
     },
     "execution_count": 6,
     "metadata": {},
     "output_type": "execute_result"
    }
   ],
   "source": [
    "metrics, system, ϕ0, metrics0, system0 = get_metrics_normal_rar({\n",
    "    \"ATS__dE_J\": 37.0 * 0.01\n",
    "})\n",
    "metrics[\"K_a\"]*1e9"
   ]
  }
 ],
 "metadata": {
  "kernelspec": {
   "display_name": "jax-framework",
   "language": "python",
   "name": "python3"
  },
  "language_info": {
   "codemirror_mode": {
    "name": "ipython",
    "version": 3
   },
   "file_extension": ".py",
   "mimetype": "text/x-python",
   "name": "python",
   "nbconvert_exporter": "python",
   "pygments_lexer": "ipython3",
   "version": "3.9.18"
  }
 },
 "nbformat": 4,
 "nbformat_minor": 2
}
