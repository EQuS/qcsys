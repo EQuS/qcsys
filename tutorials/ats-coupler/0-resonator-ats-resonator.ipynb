{
 "cells": [
  {
   "cell_type": "code",
   "execution_count": 1,
   "metadata": {},
   "outputs": [],
   "source": [
    "%load_ext autoreload\n",
    "%autoreload 2"
   ]
  },
  {
   "cell_type": "code",
   "execution_count": 2,
   "metadata": {},
   "outputs": [],
   "source": [
    "from jax import jit, grad\n",
    "import qcsys as qs\n",
    "import jax.numpy as jnp\n",
    "from rar_helpers import *"
   ]
  },
  {
   "cell_type": "code",
   "execution_count": 3,
   "metadata": {},
   "outputs": [],
   "source": [
    "import jaxquantum as jqt"
   ]
  },
  {
   "cell_type": "code",
   "execution_count": 5,
   "metadata": {},
   "outputs": [
    {
     "data": {
      "text/plain": [
       "{'g_3': Array(1.28654004e-05+0.j, dtype=complex128),\n",
       " 'g_cd': Array(2.57308009e-05+0.j, dtype=complex128),\n",
       " 'g_ex': Array(-0.00212182+0.j, dtype=complex128),\n",
       " 'ω_ATS': Array(6.02181564, dtype=float64),\n",
       " 'ω_ResonatorA': Array(4.99584201, dtype=float64),\n",
       " 'ω_ResonatorB': Array(7.00151547, dtype=float64)}"
      ]
     },
     "execution_count": 5,
     "metadata": {},
     "output_type": "execute_result"
    }
   ],
   "source": [
    "# Analytic calculation of relevant metrics\n",
    "ϕ0, metrics0, system0 = get_metrics_linear_rar({})\n",
    "metrics0"
   ]
  },
  {
   "cell_type": "code",
   "execution_count": 6,
   "metadata": {},
   "outputs": [
    {
     "data": {
      "text/plain": [
       "Array([ 1.77635684e-06, -3.55271368e-06,  3.55271368e-06,  3.55271368e-06,\n",
       "       -1.77635684e-05,  2.13162821e-05], dtype=float64)"
      ]
     },
     "execution_count": 6,
     "metadata": {},
     "output_type": "execute_result"
    }
   ],
   "source": [
    "# Calculate Kerr in full system\n",
    "metrics, system, ϕ0, metrics0, system0 = get_metrics_normal_rar({})#{\"ResonatorA_frequency\": 3})\n",
    "metrics[\"K_a\"]*1e9"
   ]
  },
  {
   "cell_type": "code",
   "execution_count": 7,
   "metadata": {},
   "outputs": [
    {
     "data": {
      "text/plain": [
       "Array([ 9.07340869e+00,  9.07284026e+00,  9.07218478e+00,  9.07082054e+00,\n",
       "       -1.22036532e+01,  4.27481506e+05], dtype=float64)"
      ]
     },
     "execution_count": 7,
     "metadata": {},
     "output_type": "execute_result"
    }
   ],
   "source": [
    "# Can override parameters!\n",
    "metrics, system, ϕ0, metrics0, system0 = get_metrics_normal_rar({\n",
    "    \"ATS__dE_J\": 37.0 * 0.01\n",
    "})\n",
    "metrics[\"K_a\"]*1e9"
   ]
  },
  {
   "cell_type": "markdown",
   "metadata": {},
   "source": [
    "# Relevant Hamiltonian Terms for a Time Dep Simulation"
   ]
  },
  {
   "cell_type": "code",
   "execution_count": 12,
   "metadata": {},
   "outputs": [],
   "source": [
    "metrics, system, ϕ0, metrics0, system0 = get_metrics_normal_rar({})"
   ]
  },
  {
   "cell_type": "code",
   "execution_count": 13,
   "metadata": {},
   "outputs": [],
   "source": [
    "H_static = system.get_H()\n",
    "\n",
    "phi = system.params[\"phi\"]\n",
    "Ejb = system.devices[1].params[\"Ej\"]\n",
    "H_drive = -2*Ejb*jqt.sinm(phi)"
   ]
  },
  {
   "cell_type": "code",
   "execution_count": 14,
   "metadata": {},
   "outputs": [],
   "source": [
    "# The full system Hamiltonian H = H_static + sin(eps(t)) * H_drive\n",
    "H_static_qt = jqt.jqt2qt(H_static)\n",
    "H_drive_qt = jqt.jqt2qt(H_drive) "
   ]
  },
  {
   "cell_type": "code",
   "execution_count": 16,
   "metadata": {},
   "outputs": [
    {
     "data": {
      "text/latex": [
       "Quantum object: dims=[[8, 10, 8], [8, 10, 8]], shape=(640, 640), type='oper', dtype=Dense, isherm=True$$\\left(\\begin{array}{cc}0 & -0.697 & 0 & 2.651\\times10^{ -5 } & 0 & \\cdots & 0 & 0 & 0 & 0 & 0\\\\-0.697 & 0 & -0.986 & 0 & 5.302\\times10^{ -5 } & \\cdots & 0 & 0 & 0 & 0 & 0\\\\0 & -0.986 & 0 & -1.207 & 0 & \\cdots & 0 & 0 & 0 & 0 & 0\\\\2.651\\times10^{ -5 } & 0 & -1.207 & 0 & -1.394 & \\cdots & 0 & 0 & 0 & 0 & 0\\\\0 & 5.302\\times10^{ -5 } & 0 & -1.394 & 0 & \\cdots & 0 & 0 & 0 & 0 & 0\\\\\\vdots & \\vdots & \\vdots & \\vdots & \\vdots & \\ddots & \\vdots & \\vdots & \\vdots & \\vdots & \\vdots\\\\0 & 0 & 0 & 0 & 0 & \\cdots & 0 & -1.139 & 0 & 9.688\\times10^{ -5 } & 0\\\\0 & 0 & 0 & 0 & 0 & \\cdots & -1.139 & 0 & -1.274 & 0 & 1.282\\times10^{ -4 }\\\\0 & 0 & 0 & 0 & 0 & \\cdots & 0 & -1.274 & 0 & -1.395 & 0\\\\0 & 0 & 0 & 0 & 0 & \\cdots & 9.688\\times10^{ -5 } & 0 & -1.395 & 0 & -1.507\\\\0 & 0 & 0 & 0 & 0 & \\cdots & 0 & 1.282\\times10^{ -4 } & 0 & -1.507 & 0\\end{array}\\right)$$"
      ],
      "text/plain": [
       "Quantum object: dims=[[8, 10, 8], [8, 10, 8]], shape=(640, 640), type='oper', dtype=Dense, isherm=True\n",
       "Qobj data =\n",
       "[[ 0.         -0.69714856  0.         ...  0.          0.\n",
       "   0.        ]\n",
       " [-0.69714856  0.         -0.98587103 ...  0.          0.\n",
       "   0.        ]\n",
       " [ 0.         -0.98587103  0.         ...  0.          0.\n",
       "   0.        ]\n",
       " ...\n",
       " [ 0.          0.          0.         ...  0.         -1.39529043\n",
       "   0.        ]\n",
       " [ 0.          0.          0.         ... -1.39529043  0.\n",
       "  -1.50720291]\n",
       " [ 0.          0.          0.         ...  0.         -1.50720291\n",
       "   0.        ]]"
      ]
     },
     "execution_count": 16,
     "metadata": {},
     "output_type": "execute_result"
    }
   ],
   "source": [
    "H_drive_qt # qutip job"
   ]
  }
 ],
 "metadata": {
  "kernelspec": {
   "display_name": "jax-framework",
   "language": "python",
   "name": "python3"
  },
  "language_info": {
   "codemirror_mode": {
    "name": "ipython",
    "version": 3
   },
   "file_extension": ".py",
   "mimetype": "text/x-python",
   "name": "python",
   "nbconvert_exporter": "python",
   "pygments_lexer": "ipython3",
   "version": "3.12.4"
  }
 },
 "nbformat": 4,
 "nbformat_minor": 2
}
